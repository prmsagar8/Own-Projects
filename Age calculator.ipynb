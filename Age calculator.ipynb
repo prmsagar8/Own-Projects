{
 "cells": [
  {
   "cell_type": "markdown",
   "metadata": {},
   "source": [
    "# Age Calculator (Consistancy, Dynamic)"
   ]
  },
  {
   "cell_type": "code",
   "execution_count": 189,
   "metadata": {},
   "outputs": [
    {
     "name": "stdout",
     "output_type": "stream",
     "text": [
      "Enter your Birth Day in the format 'DD'  : 05\n",
      "Enter your Birth Month in the format 'MM'  : 08\n",
      "Enter your Year Month in the format 'YYYY' : 1992\n",
      "2021\n",
      "Your current age\n",
      "Days:  25\n",
      "Months:  0\n",
      "Years:  29\n"
     ]
    }
   ],
   "source": [
    "B_day = int(input(\"Enter your Birth Day in the format 'DD'  : \"))\n",
    "B_month = int(input(\"Enter your Birth Month in the format 'MM'  : \"))\n",
    "B_Year = int(input(\"Enter your Year Month in the format 'YYYY' : \"))\n",
    "\n",
    "currentDay = 30\n",
    "currentMonth = 8\n",
    "currentYear = 2021\n",
    "\n",
    "from datetime import date\n",
    "print(date.today().year)\n",
    "day = date.today().day - B_day\n",
    "month = date.today().month - B_month\n",
    "year = date.today().year - B_Year\n",
    "\n",
    "print(\"Your current age\")\n",
    "print(\"Days: \",day)\n",
    "print(\"Months: \",month)\n",
    "print(\"Years: \",year)"
   ]
  },
  {
   "cell_type": "code",
   "execution_count": 165,
   "metadata": {},
   "outputs": [
    {
     "name": "stdout",
     "output_type": "stream",
     "text": [
      "time.struct_time(tm_year=2021, tm_mon=8, tm_mday=30, tm_hour=19, tm_min=36, tm_sec=10, tm_wday=0, tm_yday=242, tm_isdst=0)\n"
     ]
    }
   ],
   "source": [
    "import time\n",
    "ltime=time.localtime()\n",
    "\n",
    "print(ltime)"
   ]
  },
  {
   "cell_type": "code",
   "execution_count": 181,
   "metadata": {},
   "outputs": [
    {
     "name": "stdout",
     "output_type": "stream",
     "text": [
      "2021\n"
     ]
    }
   ],
   "source": [
    "from datetime import date\n",
    "print(date.today().year)"
   ]
  },
  {
   "cell_type": "code",
   "execution_count": 185,
   "metadata": {},
   "outputs": [
    {
     "name": "stdout",
     "output_type": "stream",
     "text": [
      "2021-08-30 19:42:08.761226\n"
     ]
    }
   ],
   "source": [
    "from datetime import datetime\n",
    "print(datetime.today())"
   ]
  },
  {
   "cell_type": "code",
   "execution_count": 199,
   "metadata": {},
   "outputs": [
    {
     "name": "stdout",
     "output_type": "stream",
     "text": [
      "enter your namenani\n",
      "Your name is  nani\n"
     ]
    }
   ],
   "source": [
    "name = input('enter your name')\n",
    "print('Your name is ',name)\n"
   ]
  },
  {
   "cell_type": "code",
   "execution_count": 207,
   "metadata": {},
   "outputs": [
    {
     "name": "stdout",
     "output_type": "stream",
     "text": [
      "Enter your address with seperator by commadda,dadad,adad,dd\n",
      "Address is street dadad, state dd\n"
     ]
    }
   ],
   "source": [
    "door, street, city, state = input('Enter your address with seperator by comma' ).split(',')\n",
    "print('Address is street {}, state {}'.format(street,state))"
   ]
  }
 ],
 "metadata": {
  "kernelspec": {
   "display_name": "Python 3",
   "language": "python",
   "name": "python3"
  },
  "language_info": {
   "codemirror_mode": {
    "name": "ipython",
    "version": 3
   },
   "file_extension": ".py",
   "mimetype": "text/x-python",
   "name": "python",
   "nbconvert_exporter": "python",
   "pygments_lexer": "ipython3",
   "version": "3.8.5"
  }
 },
 "nbformat": 4,
 "nbformat_minor": 4
}
