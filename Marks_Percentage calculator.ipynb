{
 "cells": [
  {
   "cell_type": "markdown",
   "metadata": {},
   "source": [
    "# Marks - Percentage calculator"
   ]
  },
  {
   "cell_type": "code",
   "execution_count": 2,
   "metadata": {},
   "outputs": [
    {
     "name": "stdout",
     "output_type": "stream",
     "text": [
      "Enter Marks obtained: 1213\n",
      "Enter Total / Out of Marks: 1800\n",
      "Percentage:  67.38888888888889 , Total marks remaining:  587\n"
     ]
    }
   ],
   "source": [
    "# (CGPA) to percentage\n",
    "marks = int(input(\"Enter Marks obtained: \"))\n",
    "totalMarks = int(input(\"Enter Total / Out of Marks: \"))\n",
    "\n",
    "cal = (marks/totalMarks)*100\n",
    "rem = totalMarks - marks\n",
    "\n",
    "print('Percentage: ',cal, \", Total marks remaining: \",rem)"
   ]
  },
  {
   "cell_type": "code",
   "execution_count": 44,
   "metadata": {},
   "outputs": [
    {
     "name": "stdout",
     "output_type": "stream",
     "text": [
      "Enter Marks obtained: 8.2\n",
      "Enter Total Out of Marks: 11\n",
      "Percentage:  74.54545454545453\n"
     ]
    }
   ],
   "source": [
    "# (GPA) to percentage\n",
    "marks = float(input(\"Enter Marks obtained: \"))\n",
    "totalMarks = float(input(\"Enter Total Out of Marks: \"))\n",
    "\n",
    "cal = (marks/totalMarks)*100\n",
    "per = (cal+1)*20\n",
    "gpa = (per/20)-1\n",
    "\n",
    "print('Percentage: ',gpa)"
   ]
  },
  {
   "cell_type": "code",
   "execution_count": null,
   "metadata": {},
   "outputs": [],
   "source": []
  },
  {
   "cell_type": "code",
   "execution_count": null,
   "metadata": {},
   "outputs": [],
   "source": []
  }
 ],
 "metadata": {
  "kernelspec": {
   "display_name": "Python 3",
   "language": "python",
   "name": "python3"
  },
  "language_info": {
   "codemirror_mode": {
    "name": "ipython",
    "version": 3
   },
   "file_extension": ".py",
   "mimetype": "text/x-python",
   "name": "python",
   "nbconvert_exporter": "python",
   "pygments_lexer": "ipython3",
   "version": "3.8.5"
  }
 },
 "nbformat": 4,
 "nbformat_minor": 4
}
