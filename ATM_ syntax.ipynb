{
 "cells": [
  {
   "cell_type": "code",
   "execution_count": 121,
   "metadata": {},
   "outputs": [
    {
     "name": "stdout",
     "output_type": "stream",
     "text": [
      "Please enter your 4 digit pin :123\n",
      "Wrong pin entered. Please try again.\n"
     ]
    }
   ],
   "source": [
    "#ATM Machine syntax by premsagar\n",
    "\n",
    "pin = int(input(\"Please enter your 4 digit pin :\"))\n",
    "\n",
    "if pin == 1234:\n",
    "    print(\"Welcome to XYZ_Bank\")\n",
    "    print(\"Enter Amount\")\n",
    "    amount = int(input(\"Withdraw amount :\"))\n",
    "    acBalance = 50000\n",
    "    remaining = amount-acBalance\n",
    "    print('Account Balance :',remaining)\n",
    "    print(\"Thank You! Visit again.\")\n",
    "\n",
    "else:\n",
    "    print(\"Wrong pin entered. Please try again.\")"
   ]
  },
  {
   "cell_type": "code",
   "execution_count": null,
   "metadata": {},
   "outputs": [],
   "source": []
  },
  {
   "cell_type": "code",
   "execution_count": null,
   "metadata": {},
   "outputs": [],
   "source": []
  }
 ],
 "metadata": {
  "kernelspec": {
   "display_name": "Python 3",
   "language": "python",
   "name": "python3"
  },
  "language_info": {
   "codemirror_mode": {
    "name": "ipython",
    "version": 3
   },
   "file_extension": ".py",
   "mimetype": "text/x-python",
   "name": "python",
   "nbconvert_exporter": "python",
   "pygments_lexer": "ipython3",
   "version": "3.8.5"
  }
 },
 "nbformat": 4,
 "nbformat_minor": 4
}
