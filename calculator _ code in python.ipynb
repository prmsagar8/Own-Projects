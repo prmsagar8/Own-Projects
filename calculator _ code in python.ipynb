{
 "cells": [
  {
   "cell_type": "markdown",
   "id": "e3312f9e",
   "metadata": {},
   "source": [
    "# calculator code in python"
   ]
  },
  {
   "cell_type": "code",
   "execution_count": 3,
   "id": "676ac587",
   "metadata": {},
   "outputs": [
    {
     "name": "stdout",
     "output_type": "stream",
     "text": [
      "Enter first number: 5\n",
      "Enter second number: 4\n",
      "Enter operator (+, -, *, /): *\n",
      "5.0 * 4.0 = 20\n"
     ]
    }
   ],
   "source": [
    "# Take input from the user\n",
    "num1 = float(input(\"Enter first number: \"))\n",
    "num2 = float(input(\"Enter second number: \"))\n",
    "operator = input(\"Enter operator (+, -, *, /): \")\n",
    "\n",
    "# Calculate the result based on the operator entered by the user\n",
    "result = {\n",
    "    '+': lambda x, y: x + y,\n",
    "    '-': lambda x, y: x - y,\n",
    "    '*': lambda x, y: x * y,\n",
    "    '/': lambda x, y: x / y\n",
    "}[operator](num1, num2)\n",
    "\n",
    "result_int = int(result)\n",
    "# Print the result\n",
    "print(num1, operator, num2, \"=\", result_int)\n"
   ]
  },
  {
   "cell_type": "code",
   "execution_count": null,
   "id": "db0499eb",
   "metadata": {},
   "outputs": [],
   "source": []
  }
 ],
 "metadata": {
  "kernelspec": {
   "display_name": "Python 3 (ipykernel)",
   "language": "python",
   "name": "python3"
  },
  "language_info": {
   "codemirror_mode": {
    "name": "ipython",
    "version": 3
   },
   "file_extension": ".py",
   "mimetype": "text/x-python",
   "name": "python",
   "nbconvert_exporter": "python",
   "pygments_lexer": "ipython3",
   "version": "3.9.7"
  }
 },
 "nbformat": 4,
 "nbformat_minor": 5
}
